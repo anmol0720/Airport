{
  "nbformat": 4,
  "nbformat_minor": 0,
  "metadata": {
    "colab": {
      "name": "Airport.ipynb",
      "provenance": [],
      "authorship_tag": "ABX9TyOXHqwjyQ7gAnNYs2CZ7ueJ",
      "include_colab_link": true
    },
    "kernelspec": {
      "name": "python3",
      "display_name": "Python 3"
    }
  },
  "cells": [
    {
      "cell_type": "markdown",
      "metadata": {
        "id": "view-in-github",
        "colab_type": "text"
      },
      "source": [
        "<a href=\"https://colab.research.google.com/github/anmol0720/Airport/blob/master/Airport.ipynb\" target=\"_parent\"><img src=\"https://colab.research.google.com/assets/colab-badge.svg\" alt=\"Open In Colab\"/></a>"
      ]
    },
    {
      "cell_type": "code",
      "metadata": {
        "id": "CmvxAEluHUeB",
        "colab_type": "code",
        "colab": {}
      },
      "source": [
        "import networkx as nx"
      ],
      "execution_count": 0,
      "outputs": []
    },
    {
      "cell_type": "code",
      "metadata": {
        "id": "wmlo9NjKHkk4",
        "colab_type": "code",
        "colab": {}
      },
      "source": [
        "from pandas import read_csv"
      ],
      "execution_count": 0,
      "outputs": []
    },
    {
      "cell_type": "code",
      "metadata": {
        "id": "tWg4Ei7fIG1R",
        "colab_type": "code",
        "colab": {}
      },
      "source": [
        "columns= ['Airline', 'Airline ID', 'Source airport', 'Source airport ID', 'Destination airport','Destination airport ID', 'Codeshare', 'Stops', 'Equipment']\n",
        "routes=read_csv('https://raw.githubusercontent.com/jpatokal/openflights/master/data/routes.dat',header=None)\n",
        "routes.columns=columns"
      ],
      "execution_count": 0,
      "outputs": []
    },
    {
      "cell_type": "code",
      "metadata": {
        "id": "d3cY09UcIKfz",
        "colab_type": "code",
        "colab": {}
      },
      "source": [
        "columns= ['ID', 'Name', 'City', 'Country', 'IATA', 'VIDP', 'Lat', 'Long', 'Elevation', 'Timezone', 'DST','Timezone Olson Format', 'type', 'Source']\n",
        "airports=read_csv('https://raw.githubusercontent.com/jpatokal/openflights/master/data/airports.dat',header=None)\n",
        "airports.columns=columns"
      ],
      "execution_count": 0,
      "outputs": []
    },
    {
      "cell_type": "code",
      "metadata": {
        "id": "RbiULmvSIQV2",
        "colab_type": "code",
        "colab": {}
      },
      "source": [
        "edge=[(row['Source airport'],row['Destination airport']) for item,row in routes[['Source airport','Destination airport']].iterrows()]"
      ],
      "execution_count": 0,
      "outputs": []
    },
    {
      "cell_type": "code",
      "metadata": {
        "id": "oHwhmRE1IVi5",
        "colab_type": "code",
        "colab": {}
      },
      "source": [
        "route_graph=nx.Graph()\n",
        "route_graph.add_edges_from(edge)"
      ],
      "execution_count": 0,
      "outputs": []
    }
  ]
}